{
 "cells": [
  {
   "cell_type": "markdown",
   "id": "966a0eee-9de7-4b65-9d93-90df2328973b",
   "metadata": {},
   "source": [
    "# Generators"
   ]
  },
  {
   "cell_type": "code",
   "execution_count": 26,
   "id": "38b86043-88f0-4aed-8fd4-6668076dfbf0",
   "metadata": {},
   "outputs": [
    {
     "name": "stdout",
     "output_type": "stream",
     "text": [
      "And the next number is... 10!\n",
      "And the next number is... 14!\n",
      "And the next number is... 18!\n",
      "And the next number is... 15!\n",
      "And the next number is... 31!\n",
      "And the next number is... 14!\n",
      "And the next number is... 6!\n"
     ]
    }
   ],
   "source": [
    "import random\n",
    "\n",
    "def lottery():\n",
    "    for i in range(6):\n",
    "        yield random.randint(1, 40)\n",
    "\n",
    "    yield random.randint(1, 15)\n",
    "\n",
    "for random_number in lottery():\n",
    "       print(\"And the next number is... %d!\" %(random_number))"
   ]
  },
  {
   "cell_type": "code",
   "execution_count": 27,
   "id": "73ab7bef-5fd8-4e1f-ae14-a007bf64ae33",
   "metadata": {},
   "outputs": [
    {
     "name": "stdout",
     "output_type": "stream",
     "text": [
      "2 1\n"
     ]
    }
   ],
   "source": [
    "a = 1\n",
    "b = 2\n",
    "a, b = b, a\n",
    "print(a, b)"
   ]
  },
  {
   "cell_type": "code",
   "execution_count": 29,
   "id": "fdeb7921-d4cb-471b-8e1a-69cbf6e3e0f2",
   "metadata": {},
   "outputs": [
    {
     "name": "stdout",
     "output_type": "stream",
     "text": [
      "Good, The fib function is a generator.\n",
      "0\n",
      "1\n",
      "1\n",
      "2\n",
      "3\n",
      "5\n",
      "8\n",
      "13\n",
      "21\n",
      "34\n"
     ]
    }
   ],
   "source": [
    "def fib():\n",
    "    a, b = 0, 1\n",
    "    while True:\n",
    "        yield a\n",
    "        a, b = b, a + b\n",
    "\n",
    "import types\n",
    "if isinstance(fib(), types.GeneratorType):\n",
    "    print(\"Good, The fib function is a generator.\")\n",
    "\n",
    "    counter = 0\n",
    "    for n in fib():\n",
    "        print(n)\n",
    "        counter += 1\n",
    "        if counter == 10:\n",
    "            break\n"
   ]
  },
  {
   "cell_type": "markdown",
   "id": "02bfca53-3d75-4a7a-806f-4f3fbbe444d6",
   "metadata": {},
   "source": [
    "# List Comprehensions"
   ]
  },
  {
   "cell_type": "code",
   "execution_count": 30,
   "id": "ede1abfc-2ab4-4730-9c87-d0df895222b2",
   "metadata": {},
   "outputs": [
    {
     "name": "stdout",
     "output_type": "stream",
     "text": [
      "['Pattern', 'Recognition', 'and', 'Machine', 'Learning']\n",
      "[7, 11, 7, 8]\n"
     ]
    }
   ],
   "source": [
    "sentence = \"Pattern Recognition and Machine Learning\"\n",
    "words = sentence.split()\n",
    "word_lengths = []\n",
    "for word in words:\n",
    "      if word != \"and\":\n",
    "          word_lengths.append(len(word))\n",
    "print(words)\n",
    "print(word_lengths)"
   ]
  },
  {
   "cell_type": "code",
   "execution_count": 31,
   "id": "0f5433d3-325b-412f-8ec7-af3bc982c6d9",
   "metadata": {},
   "outputs": [
    {
     "name": "stdout",
     "output_type": "stream",
     "text": [
      "['Pattern', 'Recognition', 'and', 'Machine', 'Learning']\n",
      "[7, 11, 7, 8]\n"
     ]
    }
   ],
   "source": [
    "sentence = \"Pattern Recognition and Machine Learning\"\n",
    "words = sentence.split()\n",
    "word_lengths = [len(word) for word in words if word != \"and\"]\n",
    "print(words)\n",
    "print(word_lengths)"
   ]
  },
  {
   "cell_type": "code",
   "execution_count": 33,
   "id": "57ae33d5-206f-4649-a3b8-d9243b277d8a",
   "metadata": {},
   "outputs": [
    {
     "name": "stdout",
     "output_type": "stream",
     "text": [
      "[34.6, 44.9, 68.3, 44.6, 12.7]\n"
     ]
    }
   ],
   "source": [
    "numbers = [34.6, -203.4, 44.9, 68.3, -12.2, 44.6, 12.7]\n",
    "newlist = [num for num in numbers if num > 0]\n",
    "print(newlist)\n"
   ]
  },
  {
   "cell_type": "markdown",
   "id": "2463f6f1-269c-45b5-a0f6-d5e005eaf156",
   "metadata": {},
   "source": [
    "# Lambda functions"
   ]
  },
  {
   "cell_type": "code",
   "execution_count": 35,
   "id": "fc191220-f070-4d07-8422-7110166573c3",
   "metadata": {},
   "outputs": [
    {
     "name": "stdout",
     "output_type": "stream",
     "text": [
      "3\n"
     ]
    }
   ],
   "source": [
    "def sum(a,b):\n",
    "    return a + b\n",
    "\n",
    "a = 1\n",
    "b = 2\n",
    "c = sum(a,b)\n",
    "print(c)"
   ]
  },
  {
   "cell_type": "code",
   "execution_count": 38,
   "id": "7812fd31-1aa4-45a4-9161-0aace164f2cc",
   "metadata": {},
   "outputs": [
    {
     "name": "stdout",
     "output_type": "stream",
     "text": [
      "8\n"
     ]
    }
   ],
   "source": [
    "add = lambda x, y: x + y\n",
    "print(add(3, 5))  "
   ]
  },
  {
   "cell_type": "code",
   "execution_count": 39,
   "id": "d3ab068e-8cc1-4345-8d27-d3cb9bf651e2",
   "metadata": {},
   "outputs": [
    {
     "name": "stdout",
     "output_type": "stream",
     "text": [
      "3\n"
     ]
    }
   ],
   "source": [
    "a = 1\n",
    "b = 2\n",
    "sum = lambda x,y : x + y\n",
    "c = sum(a,b)\n",
    "print(c)"
   ]
  },
  {
   "cell_type": "code",
   "execution_count": 40,
   "id": "c291052c-7083-4a0c-a3d2-71a5568282b1",
   "metadata": {},
   "outputs": [
    {
     "name": "stdout",
     "output_type": "stream",
     "text": [
      "4\n",
      "16\n",
      "49\n",
      "9\n",
      "196\n",
      "361\n"
     ]
    }
   ],
   "source": [
    "l = [2, 4, 7, 3, 14, 19]\n",
    "for i in l:\n",
    "    print(i ** 2)\n"
   ]
  },
  {
   "cell_type": "markdown",
   "id": "6a344bca-07d5-4701-8ca7-c107f5d78d9f",
   "metadata": {},
   "source": [
    "# Multiple Function Arguments"
   ]
  },
  {
   "cell_type": "code",
   "execution_count": 41,
   "id": "67671cef-5784-44ef-ab38-b4d64b61f37d",
   "metadata": {},
   "outputs": [
    {
     "name": "stdout",
     "output_type": "stream",
     "text": [
      "First: 1\n",
      "Second: 2\n",
      "Third: 3\n",
      "And all the rest... [4, 5]\n"
     ]
    }
   ],
   "source": [
    "def foo(first, second, third, *therest):\n",
    "    print(\"First: %s\" %(first))\n",
    "    print(\"Second: %s\" %(second))\n",
    "    print(\"Third: %s\" %(third))\n",
    "    print(\"And all the rest... %s\" %(list(therest)))\n",
    "\n",
    "foo(1, 2, 3, 4, 5)"
   ]
  },
  {
   "cell_type": "code",
   "execution_count": 42,
   "id": "416e3ff3-7192-43c2-affe-002f87d21253",
   "metadata": {},
   "outputs": [
    {
     "name": "stdout",
     "output_type": "stream",
     "text": [
      "The sum is: 6\n",
      "Result: 1\n"
     ]
    }
   ],
   "source": [
    "def bar(first, second, third, **options):\n",
    "    if options.get(\"action\") == \"sum\":\n",
    "        print(\"The sum is: %d\" %(first + second + third))\n",
    "\n",
    "    if options.get(\"number\") == \"first\":\n",
    "        return first\n",
    "\n",
    "result = bar(1, 2, 3, action = \"sum\", number = \"first\")\n",
    "print(\"Result: %d\" %(result))"
   ]
  },
  {
   "cell_type": "code",
   "execution_count": 43,
   "id": "3c079f5b-5505-4947-b080-c09d6313f15e",
   "metadata": {},
   "outputs": [
    {
     "name": "stdout",
     "output_type": "stream",
     "text": [
      "Good.\n",
      "Better.\n",
      "Great.\n",
      "Awesome!\n"
     ]
    }
   ],
   "source": [
    "def foo(a, b, c, *args):\n",
    "    if len(args) == 1:\n",
    "        return 1\n",
    "    elif len(args) == 2:\n",
    "        return 2\n",
    "    return None\n",
    "\n",
    "def bar(a, b, c, *, magicnumber):\n",
    "    if magicnumber == 6:\n",
    "        return False\n",
    "    elif magicnumber == 7:\n",
    "        return True\n",
    "    return None\n",
    "\n",
    "if foo(1, 2, 3, 4) == 1:\n",
    "    print(\"Good.\")\n",
    "if foo(1, 2, 3, 4, 5) == 2:\n",
    "    print(\"Better.\")\n",
    "if bar(1, 2, 3, magicnumber=6) == False:\n",
    "    print(\"Great.\")\n",
    "if bar(1, 2, 3, magicnumber=7) == True:\n",
    "    print(\"Awesome!\")"
   ]
  },
  {
   "cell_type": "markdown",
   "id": "69a173a3-72cd-4572-b89d-03c9e9690096",
   "metadata": {},
   "source": [
    "# Regular Expressions"
   ]
  },
  {
   "cell_type": "code",
   "execution_count": 45,
   "id": "9bbeba3c-e73a-44c4-a123-86723883ce8a",
   "metadata": {},
   "outputs": [
    {
     "name": "stdout",
     "output_type": "stream",
     "text": [
      "<re.Match object; span=(35, 39), match='[on]'>\n",
      "None\n",
      "Forgot to enter a pattern!\n",
      "Forgot to enter a pattern!\n",
      "Forgot to enter a pattern!\n"
     ]
    }
   ],
   "source": [
    "import re\n",
    "pattern = re.compile(r\"\\[(on|off)\\]\") \n",
    "print(re.search(pattern, \"Mono: Playback 65 [75%] [-16.50dB] [on]\"))\n",
    "print(re.search(pattern, \"Nada...:-(\"))\n",
    "\n",
    "def test_email(your_pattern):\n",
    "    pattern = re.compile(your_pattern)\n",
    "    emails = [\"adupa@umich.edu\", \"python-list@python.org\", \"wha.t.`1an?ug{}ly@email.com\"]\n",
    "    for email in emails:\n",
    "        if not re.match(pattern, email):\n",
    "            print(\"You failed to match %s\" % (email))\n",
    "        elif not your_pattern:\n",
    "            print(\"Forgot to enter a pattern!\")\n",
    "        else:\n",
    "            print(\"Pass\")\n",
    "pattern = r\"\"\n",
    "test_email(pattern)"
   ]
  },
  {
   "cell_type": "markdown",
   "id": "820d58bb-4ecb-4271-a24c-99c397b2bcd1",
   "metadata": {},
   "source": [
    "# Exception Handling"
   ]
  },
  {
   "cell_type": "code",
   "execution_count": 46,
   "id": "8361e3ab-9d93-4a68-a4f9-a8c26730073f",
   "metadata": {},
   "outputs": [
    {
     "name": "stdout",
     "output_type": "stream",
     "text": [
      "1\n",
      "2\n",
      "3\n",
      "4\n",
      "5\n",
      "0\n",
      "0\n",
      "0\n",
      "0\n",
      "0\n",
      "0\n",
      "0\n",
      "0\n",
      "0\n",
      "0\n",
      "0\n",
      "0\n",
      "0\n",
      "0\n",
      "0\n"
     ]
    }
   ],
   "source": [
    "def do_stuff_with_number(n):\n",
    "    print(n)\n",
    "\n",
    "def catch_this():\n",
    "    the_list = (1, 2, 3, 4, 5)\n",
    "\n",
    "    for i in range(20):\n",
    "        try:\n",
    "            do_stuff_with_number(the_list[i])\n",
    "        except IndexError:\n",
    "            do_stuff_with_number(0)\n",
    "\n",
    "catch_this()"
   ]
  },
  {
   "cell_type": "code",
   "execution_count": 49,
   "id": "9859605b-2d6c-4f69-8895-e3b4933a1d3e",
   "metadata": {},
   "outputs": [
    {
     "name": "stdout",
     "output_type": "stream",
     "text": [
      "All exceptions caught! Good job!\n",
      "The actor's last name is Cleese\n"
     ]
    }
   ],
   "source": [
    "actor = {\"name\": \"John Cleese\", \"rank\": \"awesome\"}\n",
    "\n",
    "def get_last_name(): \n",
    "    try:\n",
    "        return actor[\"name\"].split()[-1]\n",
    "    except KeyError:\n",
    "        return \"Unknown\"\n",
    "\n",
    "try:\n",
    "    get_last_name()\n",
    "    print(\"All exceptions caught! Good job!\")\n",
    "    print(\"The actor's last name is %s\" % get_last_name())\n",
    "except Exception as e:\n",
    "    print(f\"An exception occurred: {e}\")\n"
   ]
  },
  {
   "cell_type": "markdown",
   "id": "2f05b1da-8265-490e-b55a-f1d6257cb44f",
   "metadata": {},
   "source": [
    "# Sets"
   ]
  },
  {
   "cell_type": "code",
   "execution_count": 50,
   "id": "da7cccdb-30f1-4a4f-aeff-e47e4be57270",
   "metadata": {},
   "outputs": [
    {
     "name": "stdout",
     "output_type": "stream",
     "text": [
      "{'Learning', 'Machine', 'Recognition', 'and', 'Pattern'}\n"
     ]
    }
   ],
   "source": [
    "print(set(\"Pattern Recognition and Machine Learning\".split()))"
   ]
  },
  {
   "cell_type": "code",
   "execution_count": 51,
   "id": "bf04063e-f3ca-45a9-93f1-286f280cddfb",
   "metadata": {},
   "outputs": [
    {
     "name": "stdout",
     "output_type": "stream",
     "text": [
      "{'John', 'Eric', 'Jake'}\n",
      "{'John', 'Jill'}\n"
     ]
    }
   ],
   "source": [
    "a = set([\"Jake\", \"John\", \"Eric\"])\n",
    "print(a)\n",
    "b = set([\"John\", \"Jill\"])\n",
    "print(b)"
   ]
  },
  {
   "cell_type": "code",
   "execution_count": 52,
   "id": "04b4f252-b540-411d-a561-c318df841dd4",
   "metadata": {},
   "outputs": [
    {
     "name": "stdout",
     "output_type": "stream",
     "text": [
      "{'John'}\n",
      "{'John'}\n"
     ]
    }
   ],
   "source": [
    "a = set([\"Jake\", \"John\", \"Eric\"])\n",
    "b = set([\"John\", \"Jill\"])\n",
    "\n",
    "print(a.intersection(b))\n",
    "print(b.intersection(a))"
   ]
  },
  {
   "cell_type": "code",
   "execution_count": 53,
   "id": "57c59289-c8b2-4c47-be2d-630a67abd077",
   "metadata": {},
   "outputs": [
    {
     "name": "stdout",
     "output_type": "stream",
     "text": [
      "{'Jill', 'Eric', 'Jake'}\n",
      "{'Jill', 'Eric', 'Jake'}\n"
     ]
    }
   ],
   "source": [
    "a = set([\"Jake\", \"John\", \"Eric\"])\n",
    "b = set([\"John\", \"Jill\"])\n",
    "\n",
    "print(a.symmetric_difference(b))\n",
    "print(b.symmetric_difference(a))"
   ]
  },
  {
   "cell_type": "code",
   "execution_count": 54,
   "id": "4f93b34d-8f7e-414d-8d86-8d7c689c5d40",
   "metadata": {},
   "outputs": [
    {
     "name": "stdout",
     "output_type": "stream",
     "text": [
      "{'Eric', 'Jake'}\n",
      "{'Jill'}\n"
     ]
    }
   ],
   "source": [
    "a = set([\"Jake\", \"John\", \"Eric\"])\n",
    "b = set([\"John\", \"Jill\"])\n",
    "\n",
    "print(a.difference(b))\n",
    "print(b.difference(a))"
   ]
  },
  {
   "cell_type": "code",
   "execution_count": 55,
   "id": "88d449f6-6a9c-48d4-9238-0fcb718e01c6",
   "metadata": {},
   "outputs": [
    {
     "name": "stdout",
     "output_type": "stream",
     "text": [
      "{'John', 'Eric', 'Jill', 'Jake'}\n"
     ]
    }
   ],
   "source": [
    "a = set([\"Jake\", \"John\", \"Eric\"])\n",
    "b = set([\"John\", \"Jill\"])\n",
    "\n",
    "print(a.union(b))"
   ]
  },
  {
   "cell_type": "code",
   "execution_count": 56,
   "id": "e9728a34-df3b-4f99-8d6f-fea2384fa530",
   "metadata": {},
   "outputs": [
    {
     "name": "stdout",
     "output_type": "stream",
     "text": [
      "{'Eric', 'Jake'}\n"
     ]
    }
   ],
   "source": [
    "a = [\"Jake\", \"John\", \"Eric\"]\n",
    "b = [\"John\", \"Jill\"]\n",
    "\n",
    "set_a = set(a)\n",
    "set_b = set(b)\n",
    "\n",
    "only_in_a = set_a - set_b\n",
    "\n",
    "print(only_in_a)\n"
   ]
  },
  {
   "cell_type": "markdown",
   "id": "66d86a38-6323-4994-9251-42c5020c466e",
   "metadata": {},
   "source": [
    "# Serialization"
   ]
  },
  {
   "cell_type": "code",
   "execution_count": 57,
   "id": "d3321388-722d-4732-a744-b9514a37ca11",
   "metadata": {},
   "outputs": [
    {
     "name": "stdout",
     "output_type": "stream",
     "text": [
      "[1, 2, 3, \"a\", \"b\", \"c\"]\n"
     ]
    }
   ],
   "source": [
    "import json\n",
    "json_string = json.dumps([1, 2, 3, \"a\", \"b\", \"c\"])\n",
    "print(json_string)"
   ]
  },
  {
   "cell_type": "code",
   "execution_count": 58,
   "id": "396ca082-f0c8-49a9-910d-b03f87eaf73a",
   "metadata": {},
   "outputs": [
    {
     "name": "stdout",
     "output_type": "stream",
     "text": [
      "[1, 2, 3, 'a', 'b', 'c']\n"
     ]
    }
   ],
   "source": [
    "import pickle\n",
    "pickled_string = pickle.dumps([1, 2, 3, \"a\", \"b\", \"c\"])\n",
    "print(pickle.loads(pickled_string))"
   ]
  },
  {
   "cell_type": "code",
   "execution_count": 62,
   "id": "afae2f53-f3da-46f7-b680-592dbc5aff31",
   "metadata": {},
   "outputs": [
    {
     "name": "stdout",
     "output_type": "stream",
     "text": [
      "300\n",
      "400\n",
      "800\n"
     ]
    }
   ],
   "source": [
    "import json\n",
    "\n",
    "def add_employee(salaries_json, name, salary):\n",
    "    salaries_dict = json.loads(salaries_json)\n",
    "    salaries_dict[name] = salary\n",
    "    return json.dumps(salaries_dict)\n",
    "\n",
    "salaries = '{\"Alfred\" : 300, \"Jane\" : 400 }'\n",
    "new_salaries = add_employee(salaries, \"Me\", 800)\n",
    "decoded_salaries = json.loads(new_salaries)\n",
    "\n",
    "print(decoded_salaries[\"Alfred\"]) \n",
    "print(decoded_salaries[\"Jane\"])     \n",
    "print(decoded_salaries[\"Me\"])      "
   ]
  },
  {
   "cell_type": "markdown",
   "id": "11fd05cc-f401-4801-bb89-bd8e5d247a77",
   "metadata": {},
   "source": [
    "# Partial functions"
   ]
  },
  {
   "cell_type": "code",
   "execution_count": 63,
   "id": "f2279a4a-528d-462b-bbba-e823e2a03a38",
   "metadata": {},
   "outputs": [
    {
     "name": "stdout",
     "output_type": "stream",
     "text": [
      "8\n"
     ]
    }
   ],
   "source": [
    "from functools import partial\n",
    "\n",
    "def multiply(x, y):\n",
    "        return x * y\n",
    "\n",
    "dbl = partial(multiply, 2)\n",
    "print(dbl(4))"
   ]
  },
  {
   "cell_type": "code",
   "execution_count": 65,
   "id": "21275ba2-0a79-4dda-9792-53935079d4e9",
   "metadata": {},
   "outputs": [
    {
     "name": "stdout",
     "output_type": "stream",
     "text": [
      "24\n"
     ]
    }
   ],
   "source": [
    "from functools import partial\n",
    "\n",
    "def func(u, v, w, x):\n",
    "    return u * 4 + v * 3 + w * 2 + x\n",
    "\n",
    "partial_func = partial(func, u=2, v=3)\n",
    "result = partial_func(w=1, x=5)\n",
    "print(result)\n"
   ]
  },
  {
   "cell_type": "markdown",
   "id": "c78b698b-f472-4c28-8954-c82fe700e44b",
   "metadata": {},
   "source": [
    "# Code Introspection"
   ]
  },
  {
   "cell_type": "code",
   "execution_count": 66,
   "id": "28b76168-7c00-40ed-8f57-b2927e2a11a7",
   "metadata": {},
   "outputs": [
    {
     "name": "stdout",
     "output_type": "stream",
     "text": [
      "Help on built-in function dir in module builtins:\n",
      "\n",
      "dir(...)\n",
      "    dir([object]) -> list of strings\n",
      "    \n",
      "    If called without an argument, return the names in the current scope.\n",
      "    Else, return an alphabetized list of names comprising (some of) the attributes\n",
      "    of the given object, and of attributes reachable from it.\n",
      "    If the object supplies a method named __dir__, it will be used; otherwise\n",
      "    the default dir() logic is used and returns:\n",
      "      for a module object: the module's attributes.\n",
      "      for a class object:  its attributes, and recursively the attributes\n",
      "        of its bases.\n",
      "      for any other object: its attributes, its class's attributes, and\n",
      "        recursively the attributes of its class's base classes.\n",
      "\n",
      "Help on built-in function hasattr in module builtins:\n",
      "\n",
      "hasattr(obj, name, /)\n",
      "    Return whether the object has an attribute with the given name.\n",
      "    \n",
      "    This is done by calling getattr(obj, name) and catching AttributeError.\n",
      "\n",
      "Help on built-in function id in module builtins:\n",
      "\n",
      "id(obj, /)\n",
      "    Return the identity of an object.\n",
      "    \n",
      "    This is guaranteed to be unique among simultaneously existing objects.\n",
      "    (CPython uses the object's memory address.)\n",
      "\n",
      "['color', 'description', 'kind', 'name', 'value']\n"
     ]
    }
   ],
   "source": [
    "help(dir)\n",
    "help(hasattr)\n",
    "help(id)\n",
    "\n",
    "class Vehicle:\n",
    "    name = \"\"\n",
    "    kind = \"car\"\n",
    "    color = \"\"\n",
    "    value = 100.00\n",
    "    \n",
    "    def description(self):\n",
    "        desc_str = \"%s is a %s %s worth $%.2f.\" % (self.name, self.color, self.kind, self.value)\n",
    "        return desc_str\n",
    "\n",
    "vehicle_attributes = [attr for attr in dir(Vehicle) if not attr.startswith('__')]\n",
    "print(vehicle_attributes)\n"
   ]
  },
  {
   "cell_type": "markdown",
   "id": "d456a427-0508-45a7-a83b-3414c381c237",
   "metadata": {},
   "source": [
    "# Closures"
   ]
  },
  {
   "cell_type": "code",
   "execution_count": 67,
   "id": "0da2ae03-b2f8-401a-a38d-f447c15da44c",
   "metadata": {},
   "outputs": [
    {
     "name": "stdout",
     "output_type": "stream",
     "text": [
      "Test message\n",
      "None\n"
     ]
    }
   ],
   "source": [
    "def transmit_to_space(message):\n",
    "    \"This is the enclosing function\"\n",
    "    def data_transmitter():\n",
    "        \"The nested function\"\n",
    "        print(message)\n",
    "\n",
    "    data_transmitter()\n",
    "\n",
    "print(transmit_to_space(\"Test message\"))"
   ]
  },
  {
   "cell_type": "code",
   "execution_count": 68,
   "id": "9fb54208-ca0e-4cb4-bd45-a0de7f0b9ba6",
   "metadata": {},
   "outputs": [
    {
     "name": "stdout",
     "output_type": "stream",
     "text": [
      "3\n",
      "3\n"
     ]
    }
   ],
   "source": [
    "def print_msg(number):\n",
    "    def printer():\n",
    "        \"Here we are using the nonlocal keyword\"\n",
    "        nonlocal number\n",
    "        number=3\n",
    "        print(number)\n",
    "    printer()\n",
    "    print(number)\n",
    "\n",
    "print_msg(9)"
   ]
  },
  {
   "cell_type": "code",
   "execution_count": 69,
   "id": "49d435a5-1151-4af2-b45b-aedfcaf2ee53",
   "metadata": {},
   "outputs": [
    {
     "name": "stdout",
     "output_type": "stream",
     "text": [
      "Burn the Sun!\n"
     ]
    }
   ],
   "source": [
    "def transmit_to_space(message):\n",
    "  \"This is the enclosing function\"\n",
    "  def data_transmitter():\n",
    "      \"The nested function\"\n",
    "      print(message)\n",
    "  return data_transmitter\n",
    "\n",
    "fun2 = transmit_to_space(\"Burn the Sun!\")\n",
    "fun2()"
   ]
  },
  {
   "cell_type": "code",
   "execution_count": 70,
   "id": "bf235433-a7e7-40f7-9d26-447e9e174d7e",
   "metadata": {},
   "outputs": [
    {
     "name": "stdout",
     "output_type": "stream",
     "text": [
      "multiply_with_2(3) = 6\n",
      "multiply_with_3(3) = 9\n",
      "multiply_with_4(3) = 12\n",
      "multiply_with_5(3) = 15\n",
      "multiply_with_5(9) = 45\n"
     ]
    }
   ],
   "source": [
    "def multiplier_of(n):\n",
    "    def multiply(x):\n",
    "        return n * x\n",
    "    return multiply\n",
    "\n",
    "for i in range(2, 6): \n",
    "    multiply_func = multiplier_of(i)\n",
    "    print(f\"multiply_with_{i}(3) = {multiply_func(3)}\") \n",
    "\n",
    "multiply_with_5 = multiplier_of(5)\n",
    "result = multiply_with_5(9)\n",
    "print(f\"multiply_with_5(9) = {result}\")\n"
   ]
  },
  {
   "cell_type": "markdown",
   "id": "d9d53685-06fa-4ae9-93d4-ecc22e0a31ed",
   "metadata": {},
   "source": [
    "# Decorators"
   ]
  },
  {
   "cell_type": "code",
   "execution_count": 74,
   "id": "a1c69a45-ee05-49ac-a76b-9035bdc8cd44",
   "metadata": {},
   "outputs": [
    {
     "name": "stdout",
     "output_type": "stream",
     "text": [
      "Before the function call\n",
      "After the function call\n",
      "value\n"
     ]
    }
   ],
   "source": [
    "def decorator(func):\n",
    "    def wrapper(*args, **kwargs):\n",
    "        print(\"Before the function call\")\n",
    "        result = func(*args, **kwargs)\n",
    "        print(\"After the function call\")\n",
    "        \n",
    "        return result\n",
    "    return wrapper\n",
    "\n",
    "@decorator\n",
    "def functions(arg):\n",
    "    return \"value\"\n",
    "\n",
    "\n",
    "result = functions(\"some argument\")\n",
    "print(result)\n"
   ]
  },
  {
   "cell_type": "code",
   "execution_count": 76,
   "id": "b56f3219-4939-47ad-b84a-e7d560f87eb2",
   "metadata": {},
   "outputs": [
    {
     "name": "stdout",
     "output_type": "stream",
     "text": [
      "<function decorator.<locals>.wrapper at 0x000002226C183370>\n"
     ]
    }
   ],
   "source": [
    "def function(arg):\n",
    "    return \"value\"\n",
    "\n",
    "function = decorator(function)\n",
    "\n",
    "print(function)"
   ]
  },
  {
   "cell_type": "code",
   "execution_count": 78,
   "id": "98d3814c-b153-446e-a806-e4e36eae7513",
   "metadata": {},
   "outputs": [
    {
     "name": "stdout",
     "output_type": "stream",
     "text": [
      "Hello, guys!\n",
      "Hello, guys!\n"
     ]
    }
   ],
   "source": [
    "def repeater(old_function):\n",
    "    def new_function(*args, **kwds):\n",
    "        old_function(*args, **kwds)\n",
    "        old_function(*args, **kwds)\n",
    "    return new_function\n",
    "\n",
    "@repeater\n",
    "def greet(name):\n",
    "    print(f\"Hello, {name}!\")\n",
    "\n",
    "greet(\"guys\")"
   ]
  },
  {
   "cell_type": "code",
   "execution_count": 79,
   "id": "3a3d7dff-08f9-4810-83f9-4f1d73014def",
   "metadata": {},
   "outputs": [
    {
     "name": "stdout",
     "output_type": "stream",
     "text": [
      "6\n",
      "6\n"
     ]
    }
   ],
   "source": [
    "@repeater\n",
    "def multiply(num1, num2):\n",
    "    print(num1 * num2)\n",
    "\n",
    "multiply(2, 3)\n"
   ]
  },
  {
   "cell_type": "code",
   "execution_count": 80,
   "id": "bd398d97-b238-4f89-abd0-994311528e97",
   "metadata": {},
   "outputs": [
    {
     "name": "stdout",
     "output_type": "stream",
     "text": [
      "10\n"
     ]
    }
   ],
   "source": [
    "def double_out(old_function):\n",
    "    def new_function(*args, **kwds):\n",
    "        return 2 * old_function(*args, **kwds)\n",
    "    return new_function\n",
    "\n",
    "@double_out\n",
    "def add(num1, num2):\n",
    "    return num1 + num2\n",
    "\n",
    "result = add(2, 3)\n",
    "print(result)"
   ]
  },
  {
   "cell_type": "code",
   "execution_count": 81,
   "id": "d03d0b5c-87fa-4ff3-84bc-4e141295b6b0",
   "metadata": {},
   "outputs": [
    {
     "name": "stdout",
     "output_type": "stream",
     "text": [
      "36\n"
     ]
    }
   ],
   "source": [
    "def double_Ii(old_function):\n",
    "    def new_function(arg):  \n",
    "        return old_function(arg * 2) \n",
    "    return new_function\n",
    "\n",
    "@double_Ii\n",
    "def square(num):\n",
    "    return num ** 2\n",
    "\n",
    "# Example usage\n",
    "result = square(3)\n",
    "print(result)\n"
   ]
  },
  {
   "cell_type": "code",
   "execution_count": 82,
   "id": "f5ee17e8-1c76-4418-9540-c5209fa1b1bb",
   "metadata": {},
   "outputs": [
    {
     "name": "stdout",
     "output_type": "stream",
     "text": [
      "Negative Argument\n"
     ]
    }
   ],
   "source": [
    "def check(old_function):\n",
    "    def new_function(arg):\n",
    "        if arg < 0:\n",
    "            raise ValueError(\"Negative Argument\")\n",
    "        return old_function(arg)\n",
    "    return new_function\n",
    "\n",
    "@check\n",
    "def square(num):\n",
    "    return num ** 2\n",
    "\n",
    "try:\n",
    "    result = square(-3)\n",
    "except ValueError as e:\n",
    "    print(e) \n"
   ]
  },
  {
   "cell_type": "code",
   "execution_count": 84,
   "id": "8a01283e-e227-4f65-aed6-5af75391095e",
   "metadata": {},
   "outputs": [
    {
     "data": {
      "text/plain": [
       "15"
      ]
     },
     "execution_count": 84,
     "metadata": {},
     "output_type": "execute_result"
    }
   ],
   "source": [
    "def multiply(multiplier):\n",
    "    def multiply_generator(old_function):\n",
    "        def new_function(*args, **kwds):\n",
    "            return multiplier * old_function(*args, **kwds)\n",
    "        return new_function\n",
    "    return multiply_generator\n",
    "\n",
    "@multiply(3)\n",
    "def return_num(num):\n",
    "    return num\n",
    "\n",
    "return_num(5)"
   ]
  },
  {
   "cell_type": "code",
   "execution_count": 86,
   "id": "df74a8aa-7db8-48a5-8fee-4b759fb49e47",
   "metadata": {},
   "outputs": [
    {
     "name": "stdout",
     "output_type": "stream",
     "text": [
      "4\n",
      "Argument must be of type int\n",
      "H\n",
      "Argument must be of type str\n"
     ]
    }
   ],
   "source": [
    "def type_check(correct_type):\n",
    "    def decorator(func):\n",
    "        def wrapper(arg):\n",
    "            if not isinstance(arg, correct_type):\n",
    "                raise TypeError(f\"Argument must be of type {correct_type.__name__}\")\n",
    "            return func(arg)\n",
    "        return wrapper\n",
    "    return decorator\n",
    "\n",
    "@type_check(int)\n",
    "def times2(num):\n",
    "    return num * 2\n",
    "\n",
    "print(times2(2))\n",
    "\n",
    "try:\n",
    "    times2('Not A Number')\n",
    "except TypeError as e:\n",
    "    print(e) \n",
    "\n",
    "@type_check(str)\n",
    "def first_letter(word):\n",
    "    return word[0]\n",
    "\n",
    "print(first_letter('Hello World'))\n",
    "\n",
    "try:\n",
    "    first_letter(['Not', 'A', 'String'])\n",
    "except TypeError as e:\n",
    "    print(e) \n"
   ]
  },
  {
   "cell_type": "markdown",
   "id": "2e8f8c1c-9ba1-46b6-b809-2815ea8cf17f",
   "metadata": {},
   "source": [
    "# Map, Filter, Reduce"
   ]
  },
  {
   "cell_type": "code",
   "execution_count": 87,
   "id": "9410e315-5dec-4c88-8fca-7c7473074bdc",
   "metadata": {},
   "outputs": [
    {
     "name": "stdout",
     "output_type": "stream",
     "text": [
      "['ALFRED', 'TABITHA', 'WILLIAM', 'ARLA']\n"
     ]
    }
   ],
   "source": [
    "my_pets = ['alfred', 'tabitha', 'william', 'arla']\n",
    "uppered_pets = []\n",
    "\n",
    "for pet in my_pets:\n",
    "    pet_ = pet.upper()\n",
    "    uppered_pets.append(pet_)\n",
    "\n",
    "print(uppered_pets)"
   ]
  },
  {
   "cell_type": "code",
   "execution_count": 90,
   "id": "daf8667f-4be9-40e2-b95b-7f261ff4c676",
   "metadata": {},
   "outputs": [
    {
     "name": "stdout",
     "output_type": "stream",
     "text": [
      "['ALFRED', 'TABITHA', 'WILLIAM', 'ARLA']\n"
     ]
    }
   ],
   "source": [
    "my_pets = ['alfred', 'tabitha', 'william', 'arla']\n",
    "uppered_pets = list(map(str.upper, my_pets))\n",
    "\n",
    "print(uppered_pets)"
   ]
  },
  {
   "cell_type": "code",
   "execution_count": 91,
   "id": "66434b62-44f7-49d9-bdbb-f68e23ff0f99",
   "metadata": {},
   "outputs": [
    {
     "name": "stdout",
     "output_type": "stream",
     "text": [
      "[3.6, 5.58, 4.009, 56.2424, 9.01344, 32.00013]\n"
     ]
    }
   ],
   "source": [
    "circle_areas = [3.56773, 5.57668, 4.00914, 56.24241, 9.01344, 32.00013]\n",
    "result = list(map(round, circle_areas, range(1, 7)))\n",
    "\n",
    "print(result)"
   ]
  },
  {
   "cell_type": "code",
   "execution_count": 92,
   "id": "39d7e8da-d6af-4df7-8db5-d4507512f60e",
   "metadata": {},
   "outputs": [
    {
     "name": "stdout",
     "output_type": "stream",
     "text": [
      "[3.6, 5.58]\n"
     ]
    }
   ],
   "source": [
    "circle_areas = [3.56773, 5.57668, 4.00914, 56.24241, 9.01344, 32.00013]\n",
    "result = list(map(round, circle_areas, range(1, 3)))\n",
    "\n",
    "print(result)"
   ]
  },
  {
   "cell_type": "code",
   "execution_count": 93,
   "id": "c298d0f9-c199-4f86-828b-fe718e88c1e9",
   "metadata": {},
   "outputs": [
    {
     "name": "stdout",
     "output_type": "stream",
     "text": [
      "[('a', 1), ('b', 2), ('c', 3), ('d', 4), ('e', 5)]\n"
     ]
    }
   ],
   "source": [
    "my_strings = ['a', 'b', 'c', 'd', 'e']\n",
    "my_numbers = [1, 2, 3, 4, 5]\n",
    "results = list(zip(my_strings, my_numbers))\n",
    "\n",
    "print(results)"
   ]
  },
  {
   "cell_type": "code",
   "execution_count": 94,
   "id": "ee1891f3-43d8-46a2-a268-52e0fdc32f10",
   "metadata": {},
   "outputs": [
    {
     "name": "stdout",
     "output_type": "stream",
     "text": [
      "[('a', 1), ('b', 2), ('c', 3), ('d', 4), ('e', 5)]\n"
     ]
    }
   ],
   "source": [
    "my_strings = ['a', 'b', 'c', 'd', 'e']\n",
    "my_numbers = [1, 2, 3, 4, 5]\n",
    "\n",
    "results = list(map(lambda x, y: (x, y), my_strings, my_numbers))\n",
    "\n",
    "print(results)"
   ]
  },
  {
   "cell_type": "code",
   "execution_count": 95,
   "id": "d3149abc-d577-4d76-a901-4cff3ba23275",
   "metadata": {},
   "outputs": [
    {
     "name": "stdout",
     "output_type": "stream",
     "text": [
      "[90, 76, 88, 81]\n"
     ]
    }
   ],
   "source": [
    "scores = [66, 90, 68, 59, 76, 60, 88, 74, 81, 65]\n",
    "def is_A_student(score):\n",
    "    return score > 75\n",
    "over_75 = list(filter(is_A_student, scores))\n",
    "\n",
    "print(over_75)"
   ]
  },
  {
   "cell_type": "code",
   "execution_count": 97,
   "id": "a88924b7-e701-4b54-8478-b68bc2b51cea",
   "metadata": {},
   "outputs": [
    {
     "name": "stdout",
     "output_type": "stream",
     "text": [
      "['madam', 'anutforajaroftuna']\n"
     ]
    }
   ],
   "source": [
    "dromes = (\"demigod\", \"rewire\", \"madam\", \"freer\", \"anutforajaroftuna\", \"kiosk\")\n",
    "palindromes = list(filter(lambda word: word == word[::-1], dromes))\n",
    "\n",
    "print(palindromes)"
   ]
  },
  {
   "cell_type": "code",
   "execution_count": 98,
   "id": "b549655c-18ed-4cc4-a31d-286d18bc58f3",
   "metadata": {},
   "outputs": [
    {
     "name": "stdout",
     "output_type": "stream",
     "text": [
      "68\n"
     ]
    }
   ],
   "source": [
    "from functools import reduce\n",
    "\n",
    "numbers = [3, 4, 6, 9, 34, 12]\n",
    "def custom_sum(first, second):\n",
    "    return first + second\n",
    "\n",
    "result = reduce(custom_sum, numbers)\n",
    "print(result)"
   ]
  },
  {
   "cell_type": "code",
   "execution_count": 99,
   "id": "5a4c814d-7bf5-4519-a8c1-d9e7740f7946",
   "metadata": {},
   "outputs": [
    {
     "name": "stdout",
     "output_type": "stream",
     "text": [
      "78\n"
     ]
    }
   ],
   "source": [
    "from functools import reduce\n",
    "\n",
    "numbers = [3, 4, 6, 9, 34, 12]\n",
    "def custom_sum(first, second):\n",
    "    return first + second\n",
    "\n",
    "result = reduce(custom_sum, numbers, 10)\n",
    "print(result)"
   ]
  },
  {
   "cell_type": "code",
   "execution_count": 100,
   "id": "e947f49f-a99a-4849-b4ef-044154cbe6a6",
   "metadata": {},
   "outputs": [
    {
     "name": "stdout",
     "output_type": "stream",
     "text": [
      "[18.922, 37.088, 10.562, 95.453, 4.666, 78.854, 21.068]\n",
      "['olumide', 'josiah', 'omoseun']\n",
      "24840\n"
     ]
    }
   ],
   "source": [
    "from functools import reduce \n",
    "\n",
    "my_floats = [4.35, 6.09, 3.25, 9.77, 2.16, 8.88, 4.59]\n",
    "my_names = [\"olumide\", \"akinremi\", \"josiah\", \"temidayo\", \"omoseun\"]\n",
    "my_numbers = [4, 6, 9, 23, 5]\n",
    "\n",
    "map_result = list(map(lambda x: round(x**2, 3), my_floats))\n",
    "filter_result = list(filter(lambda name: len(name) <= 7, my_names))\n",
    "reduce_result = reduce(lambda num1, num2: num1 * num2, my_numbers)\n",
    "\n",
    "print(map_result)\n",
    "print(filter_result)\n",
    "print(reduce_result)"
   ]
  },
  {
   "cell_type": "code",
   "execution_count": null,
   "id": "419c6c7e-8494-4ab0-aa5b-38c33d92b186",
   "metadata": {},
   "outputs": [],
   "source": []
  }
 ],
 "metadata": {
  "kernelspec": {
   "display_name": "Python 3 (ipykernel)",
   "language": "python",
   "name": "python3"
  },
  "language_info": {
   "codemirror_mode": {
    "name": "ipython",
    "version": 3
   },
   "file_extension": ".py",
   "mimetype": "text/x-python",
   "name": "python",
   "nbconvert_exporter": "python",
   "pygments_lexer": "ipython3",
   "version": "3.10.14"
  }
 },
 "nbformat": 4,
 "nbformat_minor": 5
}
