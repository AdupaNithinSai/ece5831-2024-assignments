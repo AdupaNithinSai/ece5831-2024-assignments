{
 "cells": [
  {
   "cell_type": "markdown",
   "id": "cc728deb-c1cf-4efc-ac1c-0a3777cc884b",
   "metadata": {},
   "source": [
    "# Numpy Arrays"
   ]
  },
  {
   "cell_type": "code",
   "execution_count": 5,
   "id": "1ce6ce1f-ef59-412a-87bd-5bfe2e523440",
   "metadata": {},
   "outputs": [
    {
     "name": "stdout",
     "output_type": "stream",
     "text": [
      "Requirement already satisfied: numpy in d:\\anaconda\\envs\\ece5831-2024\\lib\\site-packages (2.1.1)\n"
     ]
    }
   ],
   "source": [
    "!pip install numpy"
   ]
  },
  {
   "cell_type": "code",
   "execution_count": 6,
   "id": "82446f24-c4cd-44df-9b3d-665d2b9baef6",
   "metadata": {},
   "outputs": [],
   "source": [
    "height = [1.87,  1.87, 1.82, 1.91, 1.90, 1.85]\n",
    "weight = [81.65, 97.52, 95.25, 92.98, 86.18, 88.45]\n",
    "\n",
    "import numpy as np\n",
    "\n",
    "np_height = np.array(height)\n",
    "np_weight = np.array(weight)"
   ]
  },
  {
   "cell_type": "code",
   "execution_count": 7,
   "id": "bbfc53fb-0f34-4b5a-a9c3-ea767fa842db",
   "metadata": {},
   "outputs": [
    {
     "name": "stdout",
     "output_type": "stream",
     "text": [
      "<class 'numpy.ndarray'>\n"
     ]
    }
   ],
   "source": [
    "print(type(np_height))"
   ]
  },
  {
   "cell_type": "code",
   "execution_count": 8,
   "id": "2df1a032-126b-4dd2-9e88-56f551ad7d75",
   "metadata": {},
   "outputs": [
    {
     "name": "stdout",
     "output_type": "stream",
     "text": [
      "[23.34925219 27.88755755 28.75558507 25.48723993 23.87257618 25.84368152]\n"
     ]
    }
   ],
   "source": [
    "bmi = np_weight / np_height ** 2\n",
    "print(bmi)"
   ]
  },
  {
   "cell_type": "code",
   "execution_count": 9,
   "id": "1e0b00c4-3775-49d3-a26e-493b88f4515d",
   "metadata": {},
   "outputs": [
    {
     "data": {
      "text/plain": [
       "array([23.34925219, 27.88755755, 28.75558507, 25.48723993, 23.87257618,\n",
       "       25.84368152])"
      ]
     },
     "execution_count": 9,
     "metadata": {},
     "output_type": "execute_result"
    }
   ],
   "source": [
    "bmi > 23\n",
    "\n",
    "bmi[bmi > 23]"
   ]
  },
  {
   "cell_type": "code",
   "execution_count": 10,
   "id": "b4bc4c8b-3969-4c68-9c26-38b89c6f82f1",
   "metadata": {},
   "outputs": [
    {
     "name": "stdout",
     "output_type": "stream",
     "text": [
      "[180.007223  214.9945424 209.990055  204.9855676 189.9941516 194.998639 ]\n"
     ]
    }
   ],
   "source": [
    "import numpy as np\n",
    "weight_kg = [81.65, 97.52, 95.25, 92.98, 86.18, 88.45]\n",
    "np_weight_kg = np.array(weight_kg)\n",
    "\n",
    "np_weight_lbs = np_weight_kg * 2.20462\n",
    "\n",
    "print(np_weight_lbs)"
   ]
  },
  {
   "cell_type": "markdown",
   "id": "6bb9ee27-5020-4736-83cd-9ff6e023cede",
   "metadata": {},
   "source": [
    "# Pandas Basics"
   ]
  },
  {
   "cell_type": "code",
   "execution_count": 12,
   "id": "2e951638-19f5-4357-8f02-7e6cec704866",
   "metadata": {},
   "outputs": [
    {
     "name": "stdout",
     "output_type": "stream",
     "text": [
      "Collecting pandas\n",
      "  Downloading pandas-2.2.3-cp310-cp310-win_amd64.whl.metadata (19 kB)\n",
      "Requirement already satisfied: numpy>=1.22.4 in d:\\anaconda\\envs\\ece5831-2024\\lib\\site-packages (from pandas) (2.1.1)\n",
      "Requirement already satisfied: python-dateutil>=2.8.2 in d:\\anaconda\\envs\\ece5831-2024\\lib\\site-packages (from pandas) (2.9.0.post0)\n",
      "Requirement already satisfied: pytz>=2020.1 in d:\\anaconda\\envs\\ece5831-2024\\lib\\site-packages (from pandas) (2024.1)\n",
      "Collecting tzdata>=2022.7 (from pandas)\n",
      "  Using cached tzdata-2024.1-py2.py3-none-any.whl.metadata (1.4 kB)\n",
      "Requirement already satisfied: six>=1.5 in d:\\anaconda\\envs\\ece5831-2024\\lib\\site-packages (from python-dateutil>=2.8.2->pandas) (1.16.0)\n",
      "Downloading pandas-2.2.3-cp310-cp310-win_amd64.whl (11.6 MB)\n",
      "   ---------------------------------------- 0.0/11.6 MB ? eta -:--:--\n",
      "   -- ------------------------------------- 0.8/11.6 MB 4.2 MB/s eta 0:00:03\n",
      "   ----- ---------------------------------- 1.6/11.6 MB 4.9 MB/s eta 0:00:03\n",
      "   --------- ------------------------------ 2.9/11.6 MB 5.1 MB/s eta 0:00:02\n",
      "   ------------- -------------------------- 3.9/11.6 MB 5.2 MB/s eta 0:00:02\n",
      "   ---------------- ----------------------- 4.7/11.6 MB 4.8 MB/s eta 0:00:02\n",
      "   -------------------- ------------------- 6.0/11.6 MB 5.1 MB/s eta 0:00:02\n",
      "   ------------------------ --------------- 7.1/11.6 MB 5.1 MB/s eta 0:00:01\n",
      "   --------------------------- ------------ 7.9/11.6 MB 5.0 MB/s eta 0:00:01\n",
      "   -------------------------------- ------- 9.4/11.6 MB 5.2 MB/s eta 0:00:01\n",
      "   ------------------------------------- -- 11.0/11.6 MB 5.5 MB/s eta 0:00:01\n",
      "   ---------------------------------------- 11.6/11.6 MB 5.3 MB/s eta 0:00:00\n",
      "Using cached tzdata-2024.1-py2.py3-none-any.whl (345 kB)\n",
      "Installing collected packages: tzdata, pandas\n",
      "Successfully installed pandas-2.2.3 tzdata-2024.1\n"
     ]
    }
   ],
   "source": [
    "!pip install pandas"
   ]
  },
  {
   "cell_type": "code",
   "execution_count": 13,
   "id": "3ee4fe59-e6ab-4262-aee4-0a0057a1eb7c",
   "metadata": {},
   "outputs": [
    {
     "name": "stdout",
     "output_type": "stream",
     "text": [
      "        country    capital    area  population\n",
      "0        Brazil   Brasilia   8.516      200.40\n",
      "1        Russia     Moscow  17.100      143.50\n",
      "2         India  New Dehli   3.286     1252.00\n",
      "3         China    Beijing   9.597     1357.00\n",
      "4  South Africa   Pretoria   1.221       52.98\n"
     ]
    }
   ],
   "source": [
    "dict = {\"country\": [\"Brazil\", \"Russia\", \"India\", \"China\", \"South Africa\"],\n",
    "       \"capital\": [\"Brasilia\", \"Moscow\", \"New Dehli\", \"Beijing\", \"Pretoria\"],\n",
    "       \"area\": [8.516, 17.10, 3.286, 9.597, 1.221],\n",
    "       \"population\": [200.4, 143.5, 1252, 1357, 52.98] }\n",
    "\n",
    "import pandas as pd\n",
    "brics = pd.DataFrame(dict)\n",
    "print(brics)"
   ]
  },
  {
   "cell_type": "code",
   "execution_count": 14,
   "id": "9da13d22-c91b-45b0-8751-aec0f5054418",
   "metadata": {},
   "outputs": [
    {
     "name": "stdout",
     "output_type": "stream",
     "text": [
      "         country    capital    area  population\n",
      "BR        Brazil   Brasilia   8.516      200.40\n",
      "RU        Russia     Moscow  17.100      143.50\n",
      "IN         India  New Dehli   3.286     1252.00\n",
      "CH         China    Beijing   9.597     1357.00\n",
      "SA  South Africa   Pretoria   1.221       52.98\n"
     ]
    }
   ],
   "source": [
    "brics.index = [\"BR\", \"RU\", \"IN\", \"CH\", \"SA\"]\n",
    "\n",
    "print(brics)"
   ]
  },
  {
   "cell_type": "code",
   "execution_count": 16,
   "id": "2e28ab02-7c08-4071-8f89-8cfffb980468",
   "metadata": {},
   "outputs": [
    {
     "name": "stdout",
     "output_type": "stream",
     "text": [
      "    Unnamed: 0  cars_per_cap        country  drives_right\n",
      "NaN         US           809  United States          True\n",
      "NaN        AUS           731      Australia         False\n",
      "NaN        JAP           588          Japan         False\n",
      "NaN         IN            18          India         False\n",
      "NaN         RU           200         Russia          True\n",
      "NaN        MOR            70        Morocco          True\n",
      "NaN         EG            45          Egypt          True\n"
     ]
    }
   ],
   "source": [
    "import pandas as pd\n",
    "\n",
    "cars = pd.read_csv('cars.csv')\n",
    "print(cars)"
   ]
  },
  {
   "cell_type": "code",
   "execution_count": 20,
   "id": "f596c26e-d15c-4e79-a709-71bb1ce2bf9c",
   "metadata": {},
   "outputs": [
    {
     "name": "stdout",
     "output_type": "stream",
     "text": [
      "NaN    809\n",
      "NaN    731\n",
      "NaN    588\n",
      "NaN     18\n",
      "NaN    200\n",
      "NaN     70\n",
      "NaN     45\n",
      "Name: cars_per_cap, dtype: int64\n",
      "     cars_per_cap\n",
      "NaN           809\n",
      "NaN           731\n",
      "NaN           588\n",
      "NaN            18\n",
      "NaN           200\n",
      "NaN            70\n",
      "NaN            45\n",
      "     cars_per_cap        country\n",
      "NaN           809  United States\n",
      "NaN           731      Australia\n",
      "NaN           588          Japan\n",
      "NaN            18          India\n",
      "NaN           200         Russia\n",
      "NaN            70        Morocco\n",
      "NaN            45          Egypt\n"
     ]
    }
   ],
   "source": [
    "import pandas as pd\n",
    "cars = pd.read_csv('cars.csv', index_col = 0)\n",
    "\n",
    "print(cars['cars_per_cap'])\n",
    "print(cars[['cars_per_cap']])\n",
    "print(cars[['cars_per_cap', 'country']])"
   ]
  },
  {
   "cell_type": "code",
   "execution_count": 21,
   "id": "bb10462c-5df2-4a7e-95d8-1ade1a0521d7",
   "metadata": {},
   "outputs": [
    {
     "name": "stdout",
     "output_type": "stream",
     "text": [
      "    Unnamed: 0  cars_per_cap        country  drives_right\n",
      "NaN         US           809  United States          True\n",
      "NaN        AUS           731      Australia         False\n",
      "NaN        JAP           588          Japan         False\n",
      "NaN         IN            18          India         False\n",
      "    Unnamed: 0  cars_per_cap  country  drives_right\n",
      "NaN         RU           200   Russia          True\n",
      "NaN        MOR            70  Morocco          True\n"
     ]
    }
   ],
   "source": [
    "import pandas as pd\n",
    "cars = pd.read_csv('cars.csv', index_col=0)\n",
    "\n",
    "print(cars.iloc[0:4]) \n",
    "print(cars.iloc[4:6])\n"
   ]
  },
  {
   "cell_type": "code",
   "execution_count": 24,
   "id": "49b76026-e7d1-4994-8fa6-c2dfa7ff3d36",
   "metadata": {},
   "outputs": [
    {
     "name": "stdout",
     "output_type": "stream",
     "text": [
      "Third row (using iloc):\n",
      "Unnamed: 0        JAP\n",
      "cars_per_cap      588\n",
      "country         Japan\n",
      "drives_right    False\n",
      "Name: nan, dtype: object\n",
      "Rows for 'AUS' and 'EG' (using loc):\n",
      "KeyError: \"None of [Index(['AUS', 'EG'], dtype='object')] are in the [index]\"\n"
     ]
    }
   ],
   "source": [
    "import pandas as pd\n",
    "cars = pd.read_csv('cars.csv', index_col=0)\n",
    "\n",
    "print(\"Third row (using iloc):\")\n",
    "print(cars.iloc[2])\n",
    "\n",
    "print(\"Rows for 'AUS' and 'EG' (using loc):\")\n",
    "try:\n",
    "    print(cars.loc[['AUS', 'EG']])\n",
    "except KeyError as e:\n",
    "    print(f\"KeyError: {e}\")\n"
   ]
  },
  {
   "cell_type": "code",
   "execution_count": null,
   "id": "82199a8c-dc72-4ce1-b127-e643051943d0",
   "metadata": {},
   "outputs": [],
   "source": []
  }
 ],
 "metadata": {
  "kernelspec": {
   "display_name": "Python 3 (ipykernel)",
   "language": "python",
   "name": "python3"
  },
  "language_info": {
   "codemirror_mode": {
    "name": "ipython",
    "version": 3
   },
   "file_extension": ".py",
   "mimetype": "text/x-python",
   "name": "python",
   "nbconvert_exporter": "python",
   "pygments_lexer": "ipython3",
   "version": "3.10.14"
  }
 },
 "nbformat": 4,
 "nbformat_minor": 5
}
