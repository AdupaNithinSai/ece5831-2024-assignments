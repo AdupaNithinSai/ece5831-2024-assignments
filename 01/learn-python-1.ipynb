{
 "cells": [
  {
   "cell_type": "code",
   "execution_count": 72,
   "metadata": {},
   "outputs": [
    {
     "name": "stdout",
     "output_type": "stream",
     "text": [
      "Pattern Recognition and Neural Networks Assignment 1\n"
     ]
    }
   ],
   "source": [
    "print(\"Pattern Recognition and Neural Networks Assignment 1\")"
   ]
  },
  {
   "cell_type": "code",
   "execution_count": 73,
   "metadata": {},
   "outputs": [
    {
     "name": "stdout",
     "output_type": "stream",
     "text": [
      "Pattern Recognition and Neural Networks Assignment 1\n"
     ]
    }
   ],
   "source": [
    "HW1 = \"Pattern Recognition and Neural Networks Assignment 1\"\n",
    "print(HW1)"
   ]
  },
  {
   "cell_type": "code",
   "execution_count": 74,
   "metadata": {},
   "outputs": [
    {
     "name": "stdout",
     "output_type": "stream",
     "text": [
      "1\n",
      "2\n",
      "3\n",
      "1\n",
      "2\n",
      "3\n"
     ]
    }
   ],
   "source": [
    "mylist = []\n",
    "mylist.append(1)\n",
    "mylist.append(2)\n",
    "mylist.append(3)\n",
    "print(mylist[0])\n",
    "print(mylist[1])\n",
    "print(mylist[2])\n",
    "\n",
    "for x in mylist:\n",
    "    print(x)"
   ]
  },
  {
   "cell_type": "code",
   "execution_count": 75,
   "metadata": {},
   "outputs": [
    {
     "name": "stdout",
     "output_type": "stream",
     "text": [
      "2\n"
     ]
    }
   ],
   "source": [
    "mylist = [1,2,3]\n",
    "print(mylist[1])"
   ]
  },
  {
   "cell_type": "code",
   "execution_count": 76,
   "metadata": {},
   "outputs": [
    {
     "name": "stdout",
     "output_type": "stream",
     "text": [
      "2.5\n"
     ]
    }
   ],
   "source": [
    "HW1 = 1 + 2 * 3 / 4.0\n",
    "print(HW1)"
   ]
  },
  {
   "cell_type": "code",
   "execution_count": 77,
   "metadata": {},
   "outputs": [
    {
     "name": "stdout",
     "output_type": "stream",
     "text": [
      "2\n"
     ]
    }
   ],
   "source": [
    "HW1 = 11 % 3\n",
    "print(HW1)"
   ]
  },
  {
   "cell_type": "code",
   "execution_count": 78,
   "metadata": {},
   "outputs": [
    {
     "name": "stdout",
     "output_type": "stream",
     "text": [
      "squared : 49\n",
      "cubed : 8\n"
     ]
    }
   ],
   "source": [
    "sq = 7 ** 2\n",
    "cube = 2 ** 3\n",
    "print(\"squared :\",sq)\n",
    "print(\"cubed :\",cube)"
   ]
  },
  {
   "cell_type": "code",
   "execution_count": 79,
   "metadata": {},
   "outputs": [
    {
     "name": "stdout",
     "output_type": "stream",
     "text": [
      "Pattern Recognition & Neural Networks\n"
     ]
    }
   ],
   "source": [
    "helloworld = \"Pattern Recognition\" + \" & \" + \"Neural Networks\"\n",
    "print(helloworld)"
   ]
  },
  {
   "cell_type": "code",
   "execution_count": 80,
   "metadata": {},
   "outputs": [
    {
     "name": "stdout",
     "output_type": "stream",
     "text": [
      "HW1HW1HW1HW1HW1HW1HW1HW1HW1HW1\n"
     ]
    }
   ],
   "source": [
    "lotsofhellos = \"HW1\" * 10\n",
    "print(lotsofhellos)"
   ]
  },
  {
   "cell_type": "code",
   "execution_count": 81,
   "metadata": {},
   "outputs": [
    {
     "name": "stdout",
     "output_type": "stream",
     "text": [
      "[1, 3, 5, 7, 2, 4, 6, 8]\n",
      "[1, 3, 5, 7, 2, 4, 6, 8, 1, 3, 5, 7, 2, 4, 6, 8, 1, 3, 5, 7, 2, 4, 6, 8]\n"
     ]
    }
   ],
   "source": [
    "even = [2,4,6,8]\n",
    "odd = [1,3,5,7]\n",
    "all = odd + even\n",
    "print(all)\n",
    "\n",
    "print(all * 3)"
   ]
  },
  {
   "cell_type": "code",
   "execution_count": 82,
   "metadata": {},
   "outputs": [
    {
     "name": "stdout",
     "output_type": "stream",
     "text": [
      "x_list contains 1 objects\n",
      "y_list contains 1 objects\n",
      "big_list contains 0 objects\n"
     ]
    }
   ],
   "source": [
    "x = object()\n",
    "y = object()\n",
    "\n",
    "x_list = [x]\n",
    "y_list = [y]\n",
    "big_list = []\n",
    "\n",
    "print(\"x_list contains %d objects\" % len(x_list))\n",
    "print(\"y_list contains %d objects\" % len(y_list))\n",
    "print(\"big_list contains %d objects\" % len(big_list))\n",
    "\n",
    "if x_list.count(x) == 10 and y_list.count(y) == 10:\n",
    "    print(\"Almost there...\")\n",
    "if big_list.count(x) == 10 and big_list.count(y) == 10:\n",
    "    print(\"Great!\")"
   ]
  },
  {
   "cell_type": "code",
   "execution_count": 83,
   "metadata": {},
   "outputs": [
    {
     "name": "stdout",
     "output_type": "stream",
     "text": [
      "Pattern Recognition and Neural Networks Assignment 1!\n"
     ]
    }
   ],
   "source": [
    "a = \"Assignment 1\"\n",
    "print(\"Pattern Recognition and Neural Networks %s!\" % a)"
   ]
  },
  {
   "cell_type": "code",
   "execution_count": 84,
   "metadata": {},
   "outputs": [
    {
     "name": "stdout",
     "output_type": "stream",
     "text": [
      "Hello John Doe, your balance is 53.44\n"
     ]
    }
   ],
   "source": [
    "data = (\"John\", \"Doe\", 53.44)\n",
    "format_string = \"Hello %s %s, your balance is %.2f\"\n",
    "\n",
    "print(format_string % data)\n"
   ]
  },
  {
   "cell_type": "code",
   "execution_count": 85,
   "metadata": {},
   "outputs": [
    {
     "name": "stdout",
     "output_type": "stream",
     "text": [
      "39\n"
     ]
    }
   ],
   "source": [
    "astring = \"Pattern Recognition and Neural Networks\"\n",
    "\n",
    "print(len(astring))"
   ]
  },
  {
   "cell_type": "code",
   "execution_count": 86,
   "metadata": {},
   "outputs": [
    {
     "name": "stdout",
     "output_type": "stream",
     "text": [
      "11\n"
     ]
    }
   ],
   "source": [
    "astring = \"Pattern Recognition and Neural Networks\"\n",
    "print(astring.index(\"o\"))"
   ]
  },
  {
   "cell_type": "code",
   "execution_count": 87,
   "metadata": {},
   "outputs": [
    {
     "name": "stdout",
     "output_type": "stream",
     "text": [
      "tern\n",
      "tern\n"
     ]
    }
   ],
   "source": [
    "astring = \"Pattern Recognition and Neural Networks\"\n",
    "print(astring[3:7])\n",
    "print(astring[3:7:1])"
   ]
  },
  {
   "cell_type": "code",
   "execution_count": 88,
   "metadata": {},
   "outputs": [
    {
     "name": "stdout",
     "output_type": "stream",
     "text": [
      "skrowteN larueN dna noitingoceR nrettaP\n"
     ]
    }
   ],
   "source": [
    "astring = \"Pattern Recognition and Neural Networks\"\n",
    "print(astring[::-1])"
   ]
  },
  {
   "cell_type": "code",
   "execution_count": 89,
   "metadata": {},
   "outputs": [
    {
     "name": "stdout",
     "output_type": "stream",
     "text": [
      "PATTERN RECOGNITION AND NEURAL NETWORKS\n",
      "pattern recognition and neural networks\n"
     ]
    }
   ],
   "source": [
    "astring = \"Pattern Recognition and Neural Networks\"\n",
    "print(astring.upper())\n",
    "print(astring.lower())"
   ]
  },
  {
   "cell_type": "code",
   "execution_count": 90,
   "metadata": {},
   "outputs": [
    {
     "name": "stdout",
     "output_type": "stream",
     "text": [
      "['Pattern', 'Recognition', 'and', 'Neural', 'Networks']\n"
     ]
    }
   ],
   "source": [
    "astring = \"Pattern Recognition and Neural Networks\"\n",
    "afewwords = astring.split(\" \")\n",
    "print(afewwords) "
   ]
  },
  {
   "cell_type": "code",
   "execution_count": 91,
   "metadata": {},
   "outputs": [
    {
     "name": "stdout",
     "output_type": "stream",
     "text": [
      "True\n",
      "False\n",
      "True\n"
     ]
    }
   ],
   "source": [
    "x = 2\n",
    "print(x == 2) \n",
    "print(x == 3) \n",
    "print(x < 3) "
   ]
  },
  {
   "cell_type": "code",
   "execution_count": 92,
   "metadata": {},
   "outputs": [
    {
     "name": "stdout",
     "output_type": "stream",
     "text": [
      "This is first assignment\n",
      "This is not first assignment\n"
     ]
    }
   ],
   "source": [
    "course = \"Pattern Recognition and Neural Networks\"\n",
    "assign = 1\n",
    "if course == \"Pattern Recognition and Neural Networks\" and assign == 1:\n",
    "    print(\"This is first assignment\")\n",
    "\n",
    "if course == \"Pattern Recognition and Neural Networks\" or assign == \"2\":\n",
    "    print(\"This is not first assignment\")"
   ]
  },
  {
   "cell_type": "code",
   "execution_count": 93,
   "metadata": {},
   "outputs": [
    {
     "name": "stdout",
     "output_type": "stream",
     "text": [
      "statement is true\n"
     ]
    }
   ],
   "source": [
    "statement = False\n",
    "another_statement = True\n",
    "if statement is True:\n",
    "    print(\"statement is true\")\n",
    "    pass\n",
    "elif another_statement is True: \n",
    "    print(\"statement is true\")\n",
    "    pass\n",
    "else:\n",
    "    print(\"statement is false\")\n",
    "    pass"
   ]
  },
  {
   "cell_type": "code",
   "execution_count": 94,
   "metadata": {},
   "outputs": [],
   "source": [
    "number = 10\n",
    "second_number = 10\n",
    "first_array = []\n",
    "second_array = [1,2,3]\n",
    "\n",
    "if number > 15:\n",
    "    print(\"1\")\n",
    "\n",
    "if first_array:\n",
    "    print(\"2\")\n",
    "\n",
    "if len(second_array) == 2:\n",
    "    print(\"3\")\n",
    "\n",
    "if len(first_array) + len(second_array) == 5:\n",
    "    print(\"4\")\n",
    "\n",
    "if first_array and first_array[0] == 1:\n",
    "    print(\"5\")\n",
    "\n",
    "if not second_number:\n",
    "    print(\"6\")"
   ]
  },
  {
   "cell_type": "code",
   "execution_count": 95,
   "metadata": {},
   "outputs": [
    {
     "name": "stdout",
     "output_type": "stream",
     "text": [
      "2\n",
      "3\n",
      "5\n",
      "7\n"
     ]
    }
   ],
   "source": [
    "primes = [2, 3, 5, 7]\n",
    "for prime in primes:\n",
    "    print(prime)"
   ]
  },
  {
   "cell_type": "code",
   "execution_count": 96,
   "metadata": {},
   "outputs": [
    {
     "name": "stdout",
     "output_type": "stream",
     "text": [
      "0\n",
      "1\n",
      "2\n",
      "3\n",
      "4\n"
     ]
    }
   ],
   "source": [
    "count = 0\n",
    "while count < 5:\n",
    "    print(count)\n",
    "    count += 1 "
   ]
  },
  {
   "cell_type": "code",
   "execution_count": 97,
   "metadata": {},
   "outputs": [
    {
     "name": "stdout",
     "output_type": "stream",
     "text": [
      "0\n",
      "1\n",
      "2\n",
      "3\n",
      "4\n",
      "1\n",
      "3\n",
      "5\n",
      "7\n",
      "9\n"
     ]
    }
   ],
   "source": [
    "count = 0\n",
    "while True:\n",
    "    print(count)\n",
    "    count += 1\n",
    "    if count >= 5:\n",
    "        break\n",
    "\n",
    "for x in range(10):\n",
    "    if x % 2 == 0:\n",
    "        continue\n",
    "    print(x)"
   ]
  },
  {
   "cell_type": "code",
   "execution_count": 98,
   "metadata": {},
   "outputs": [
    {
     "name": "stdout",
     "output_type": "stream",
     "text": [
      "0\n",
      "1\n",
      "2\n",
      "3\n",
      "4\n",
      "count value reached 5\n",
      "1\n",
      "2\n",
      "3\n",
      "4\n"
     ]
    }
   ],
   "source": [
    "count=0\n",
    "while(count<5):\n",
    "    print(count)\n",
    "    count +=1\n",
    "else:\n",
    "    print(\"count value reached %d\" %(count))\n",
    "\n",
    "for i in range(1, 10):\n",
    "    if(i%5==0):\n",
    "        break\n",
    "    print(i)\n",
    "else:\n",
    "    print(\"this is not printed because for loop is terminated because of break but not due to fail in condition\")"
   ]
  },
  {
   "cell_type": "code",
   "execution_count": 99,
   "metadata": {},
   "outputs": [
    {
     "name": "stdout",
     "output_type": "stream",
     "text": [
      "Pattern Recognition and Neural Networks\n"
     ]
    }
   ],
   "source": [
    "def hw1():\n",
    "    print(\"Pattern Recognition and Neural Networks\")\n",
    "\n",
    "hw1()"
   ]
  },
  {
   "cell_type": "code",
   "execution_count": 100,
   "metadata": {},
   "outputs": [
    {
     "name": "stdout",
     "output_type": "stream",
     "text": [
      "Pattern Recognition and Neural Networks\n",
      "Hello, John Doe, I am Nithin, I wish you a great year!\n"
     ]
    },
    {
     "data": {
      "text/plain": [
       "3"
      ]
     },
     "execution_count": 100,
     "metadata": {},
     "output_type": "execute_result"
    }
   ],
   "source": [
    "def hw1():\n",
    "    print(\"Pattern Recognition and Neural Networks\")\n",
    "\n",
    "def hw1_with_args(username, greeting):\n",
    "    print(\"Hello, %s, I am Nithin, I wish you %s\"%(username, greeting))\n",
    "\n",
    "def sum_two_numbers(a, b):\n",
    "    return a + b\n",
    "\n",
    "hw1()\n",
    "\n",
    "hw1_with_args(\"John Doe\", \"a great year!\")\n",
    "\n",
    "sum_two_numbers(1,2)"
   ]
  },
  {
   "cell_type": "code",
   "execution_count": 101,
   "metadata": {},
   "outputs": [
    {
     "name": "stdout",
     "output_type": "stream",
     "text": [
      "More organized code is a benefit of functions!\n",
      "Reusability is a benefit of functions!\n",
      "Easier debugging is a benefit of functions!\n",
      "Improved readability is a benefit of functions!\n"
     ]
    }
   ],
   "source": [
    "def list_benefits():\n",
    "    return [\n",
    "        \"More organized code\",\n",
    "        \"Reusability\",\n",
    "        \"Easier debugging\",\n",
    "        \"Improved readability\"\n",
    "    ]\n",
    "\n",
    "def build_sentence(benefit):\n",
    "    return benefit + \" is a benefit of functions!\"\n",
    "\n",
    "def name_the_benefits_of_functions():\n",
    "    list_of_benefits = list_benefits()\n",
    "    for benefit in list_of_benefits:\n",
    "        print(build_sentence(benefit))\n",
    "\n",
    "name_the_benefits_of_functions()\n"
   ]
  },
  {
   "cell_type": "code",
   "execution_count": 102,
   "metadata": {},
   "outputs": [],
   "source": [
    "class MyClass:\n",
    "    variable = \"Pattern Recognition and Neural Networks\"\n",
    "\n",
    "    def function(self):\n",
    "        print(\"This is a message inside the class.\")"
   ]
  },
  {
   "cell_type": "code",
   "execution_count": 103,
   "metadata": {},
   "outputs": [
    {
     "name": "stdout",
     "output_type": "stream",
     "text": [
      "Pattern Recognition and Neural Networks\n"
     ]
    }
   ],
   "source": [
    "myobjectx = MyClass()\n",
    "print(myobjectx.variable)"
   ]
  },
  {
   "cell_type": "code",
   "execution_count": 104,
   "metadata": {},
   "outputs": [
    {
     "name": "stdout",
     "output_type": "stream",
     "text": [
      "This is a message inside the class.\n",
      "Pattern Recognition and Neural Networks\n"
     ]
    }
   ],
   "source": [
    "myobjectx.function()    \n",
    "print(myobjectx.variable)"
   ]
  },
  {
   "cell_type": "code",
   "execution_count": 105,
   "metadata": {},
   "outputs": [
    {
     "name": "stdout",
     "output_type": "stream",
     "text": [
      "1\n"
     ]
    }
   ],
   "source": [
    "class NumberHolder:\n",
    "\n",
    "   def __init__(self, number):\n",
    "       self.number = number\n",
    "\n",
    "   def returnNumber(self):\n",
    "       return self.number\n",
    "\n",
    "var = NumberHolder(1)\n",
    "print(var.returnNumber())"
   ]
  },
  {
   "cell_type": "code",
   "execution_count": 106,
   "metadata": {},
   "outputs": [
    {
     "name": "stdout",
     "output_type": "stream",
     "text": [
      "Pattern Recognition and Neural Networks is session 1 held at ELB building, worth $500.00.\n",
      "Machine Learning is session 2 held at CS building, worth $700.00.\n"
     ]
    }
   ],
   "source": [
    "class Course:\n",
    "    def __init__(self, name, session, location, value):\n",
    "        self.name = name\n",
    "        self.session = session\n",
    "        self.location = location\n",
    "        self.value = value\n",
    "    \n",
    "    def description(self):\n",
    "        desc_str = \"%s is session %s held at %s, worth $%.2f.\" % (self.name, self.session, self.location, self.value)\n",
    "        return desc_str\n",
    "\n",
    "course1 = Course(\"Pattern Recognition and Neural Networks\", \"1\", \"ELB building\", 500.00)\n",
    "course2 = Course(\"Machine Learning\", \"2\", \"CS building\", 700.00)\n",
    "\n",
    "print(course1.description())\n",
    "print(course2.description())\n"
   ]
  },
  {
   "cell_type": "code",
   "execution_count": 107,
   "metadata": {},
   "outputs": [
    {
     "name": "stdout",
     "output_type": "stream",
     "text": [
      "Phone number of John is 938477566\n",
      "Phone number of Jack is 938377264\n",
      "Phone number of Jill is 947662781\n"
     ]
    }
   ],
   "source": [
    "phonebook = {\"John\" : 938477566,\"Jack\" : 938377264,\"Jill\" : 947662781}\n",
    "for name, number in phonebook.items():\n",
    "    print(\"Phone number of %s is %d\" % (name, number))"
   ]
  },
  {
   "cell_type": "code",
   "execution_count": 108,
   "metadata": {},
   "outputs": [
    {
     "name": "stdout",
     "output_type": "stream",
     "text": [
      "{'John': 938477566, 'Jack': 938377264, 'Jill': 947662781}\n"
     ]
    }
   ],
   "source": [
    "phonebook = {\n",
    "    \"John\" : 938477566,\n",
    "    \"Jack\" : 938377264,\n",
    "    \"Jill\" : 947662781\n",
    "}\n",
    "print(phonebook)"
   ]
  },
  {
   "cell_type": "code",
   "execution_count": 109,
   "metadata": {},
   "outputs": [
    {
     "name": "stdout",
     "output_type": "stream",
     "text": [
      "{'Jack': 938377264, 'Jill': 947662781}\n"
     ]
    }
   ],
   "source": [
    "phonebook = {\n",
    "   \"John\" : 938477566,\n",
    "   \"Jack\" : 938377264,\n",
    "   \"Jill\" : 947662781\n",
    "}\n",
    "phonebook.pop(\"John\")\n",
    "print(phonebook)"
   ]
  },
  {
   "cell_type": "code",
   "execution_count": 110,
   "metadata": {},
   "outputs": [
    {
     "name": "stdout",
     "output_type": "stream",
     "text": [
      "=== Game Visualization: Pattern Recognition and Neural Networks ===\n",
      "Pattern recognized in image dataset of handwritten digits.\n",
      "Neural network trained with image dataset of handwritten digits, achieving 92.5% accuracy.\n",
      "=========================================================\n"
     ]
    }
   ],
   "source": [
    "import draw\n",
    "\n",
    "def recognize_pattern(data):\n",
    "    recognized_pattern = f\"Pattern recognized in {data}.\"\n",
    "    return recognized_pattern\n",
    "\n",
    "def train_neural_network(data):\n",
    "    accuracy = 92.5\n",
    "    result = f\"Neural network trained with {data}, achieving {accuracy}% accuracy.\"\n",
    "    return result\n",
    "\n",
    "def play_game():\n",
    "    input_data = \"image dataset of handwritten digits\"\n",
    "    pattern_result = recognize_pattern(input_data)\n",
    "    nn_result = train_neural_network(input_data)\n",
    "    final_result = f\"{pattern_result}\\n{nn_result}\"\n",
    "    \n",
    "    return final_result\n",
    "\n",
    "def main():\n",
    "    result = play_game()\n",
    "    draw.draw_game(result)\n",
    "\n",
    "if __name__ == '__main__':\n",
    "    main()\n"
   ]
  },
  {
   "cell_type": "code",
   "execution_count": 113,
   "metadata": {},
   "outputs": [
    {
     "name": "stdout",
     "output_type": "stream",
     "text": [
      "'Pattern' found in sentence: 'Pattern'\n",
      "All occurrences of 'Pattern': ['Pattern']\n"
     ]
    }
   ],
   "source": [
    "import re\n",
    "\n",
    "sentence = \"Pattern Recognition and Neural Networks\"\n",
    "\n",
    "pattern = r\"Pattern\"\n",
    "\n",
    "search_result = re.search(pattern, sentence)\n",
    "if search_result:\n",
    "    print(f\"'{pattern}' found in sentence: '{search_result.group()}'\")\n",
    "\n",
    "find_all_result = re.findall(pattern, sentence)\n",
    "print(f\"All occurrences of '{pattern}': {find_all_result}\")\n"
   ]
  },
  {
   "cell_type": "code",
   "execution_count": null,
   "metadata": {},
   "outputs": [],
   "source": []
  }
 ],
 "metadata": {
  "kernelspec": {
   "display_name": "venv",
   "language": "python",
   "name": "python3"
  },
  "language_info": {
   "codemirror_mode": {
    "name": "ipython",
    "version": 3
   },
   "file_extension": ".py",
   "mimetype": "text/x-python",
   "name": "python",
   "nbconvert_exporter": "python",
   "pygments_lexer": "ipython3",
   "version": "3.9.13"
  },
  "orig_nbformat": 4
 },
 "nbformat": 4,
 "nbformat_minor": 2
}
