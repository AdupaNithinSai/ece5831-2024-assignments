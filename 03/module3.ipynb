{
 "cells": [
  {
   "attachments": {},
   "cell_type": "markdown",
   "metadata": {},
   "source": [
    "# Logic Gate Implementation in Python\n"
   ]
  },
  {
   "attachments": {},
   "cell_type": "markdown",
   "metadata": {},
   "source": [
    "## Overview\n",
    "In this folder, I have included the implementation of fundamental logic gates using a dedicated Python class."
   ]
  },
  {
   "attachments": {},
   "cell_type": "markdown",
   "metadata": {},
   "source": [
    "## Libraries Used\n",
    "I have used NumPy library for computation. As below\n",
    "```python\n",
    "import numpy as np"
   ]
  },
  {
   "attachments": {},
   "cell_type": "markdown",
   "metadata": {},
   "source": [
    "#### LogicGate Class\n",
    "\n",
    "###### The `LogicGate` class implements five types of logic gates. Below is the class definition with methods for each gate:\n",
    "\n",
    "#### AND Gate\n",
    "###### The AND gate outputs `1` only if both inputs are `1`.\n",
    "\n",
    "#### NAND Gate\n",
    "###### The NAND gate outputs `0` only if both inputs are `1`.\n",
    "\n",
    "#### OR Gate\n",
    "###### The OR gate outputs `1` if at least one input is `1`.\n",
    "\n",
    "#### NOR Gate\n",
    "###### The NOR gate outputs `1` only if both inputs are `0`.\n",
    "\n",
    "#### XOR Gate\n",
    "###### The XOR gate outputs `1` if the inputs are different.\n"
   ]
  },
  {
   "attachments": {},
   "cell_type": "markdown",
   "metadata": {},
   "source": [
    "#### Testing the Logic Gates\n",
    "\n",
    "##### We will test each logic gate with all possible binary combinations (0 and 1).\n",
    "\n",
    "```python\n",
    "from logic_gate import LogicGate\n",
    "\n",
    "lg = LogicGate()\n",
    "print(lg.and_gate(1, 0))  # Example Test\n"
   ]
  },
  {
   "attachments": {},
   "cell_type": "markdown",
   "metadata": {},
   "source": [
    "### Steps\n",
    "```python\n",
    "Run 'logic_gate.py' to see help messages\n",
    "Run 'module3.py' to test the functionality of the logic gates"
   ]
  },
  {
   "cell_type": "markdown",
   "metadata": {},
   "source": []
  }
 ],
 "metadata": {
  "kernelspec": {
   "display_name": "Python 3",
   "language": "python",
   "name": "python3"
  },
  "language_info": {
   "codemirror_mode": {
    "name": "ipython",
    "version": 3
   },
   "file_extension": ".py",
   "mimetype": "text/x-python",
   "name": "python",
   "nbconvert_exporter": "python",
   "pygments_lexer": "ipython3",
   "version": "3.11.2"
  },
  "orig_nbformat": 4
 },
 "nbformat": 4,
 "nbformat_minor": 2
}
